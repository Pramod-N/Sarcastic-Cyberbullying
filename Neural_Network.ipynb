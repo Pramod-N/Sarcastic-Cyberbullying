{
 "cells": [
  {
   "cell_type": "code",
   "execution_count": 1,
   "id": "23b4fbca",
   "metadata": {},
   "outputs": [],
   "source": [
    "import pandas as pd\n",
    "import numpy as np\n",
    "import matplotlib.pyplot as plt\n",
    "import random\n",
    "from sklearn.model_selection import train_test_split\n",
    "from sklearn.preprocessing import LabelEncoder\n",
    "from keras.models import Model\n",
    "from keras.layers import LSTM, Activation, Dense, Dropout, Input, Embedding\n",
    "from keras.preprocessing.text import Tokenizer\n",
    "from keras.preprocessing.sequence import pad_sequences\n",
    "from keras.models import Sequential\n",
    "import re"
   ]
  },
  {
   "cell_type": "code",
   "execution_count": 2,
   "id": "c53275b5",
   "metadata": {},
   "outputs": [],
   "source": [
    "#Read the data from the csv files loaded \n",
    "sarcasm_bullying_data  = pd.read_csv(r'./dataset/sarcastic_data.csv')\n",
    "non_sarcasm_bullying_data  = pd.read_csv(r'./dataset/non-sarcastic_data.csv')"
   ]
  },
  {
   "cell_type": "code",
   "execution_count": 3,
   "id": "69cde41f",
   "metadata": {},
   "outputs": [],
   "source": [
    "#Convert the loaded dataset into list\n",
    "complete_sarcastic_list = sarcasm_bullying_data.values.tolist()\n",
    "complete_non_sarcastic_list = non_sarcasm_bullying_data.values.tolist()\n",
    "\n",
    "#Merge non sarcastic list in sarcastic list\n",
    "complete_sarcastic_list.extend(complete_non_sarcastic_list)\n",
    "\n",
    "#shuffling the dataset\n",
    "for i in range(0,120):\n",
    "    random.shuffle(complete_sarcastic_list)\n",
    "\n",
    "#Creatng a complete set of data\n",
    "complete_set = complete_sarcastic_list\n",
    "\n",
    "#Separating sentences and labels into two different list\n",
    "complete_comments = []\n",
    "labels = []\n",
    "\n",
    "for each in complete_set:\n",
    "    complete_comments.append(each[0])\n",
    "    labels.append(each[1])\n"
   ]
  },
  {
   "cell_type": "code",
   "execution_count": 4,
   "id": "50e87cf9",
   "metadata": {},
   "outputs": [],
   "source": [
    "complete_comments =  [x.lower() for x in complete_comments]\n",
    "complete_comments = [re.sub(r'\\[^a-zA-z0-9\\s]',\"\",i) for i in complete_comments]"
   ]
  },
  {
   "cell_type": "code",
   "execution_count": 5,
   "id": "2ad7c06b",
   "metadata": {},
   "outputs": [],
   "source": [
    "max_features = 3000\n",
    "tokenizer = Tokenizer(num_words=max_features, split=' ')\n",
    "tokenizer.fit_on_texts(complete_comments)\n",
    "X = tokenizer.texts_to_sequences(complete_comments)\n",
    "X = pad_sequences(X)\n",
    "X.shape\n",
    "word_index = tokenizer.word_index"
   ]
  },
  {
   "cell_type": "code",
   "execution_count": 6,
   "id": "267442e2",
   "metadata": {},
   "outputs": [],
   "source": [
    "Y = pd.get_dummies(labels)\n",
    "X_train, X_test, Y_train, Y_test = train_test_split(X,Y, test_size = 0.30, random_state = 42)"
   ]
  },
  {
   "cell_type": "code",
   "execution_count": 7,
   "id": "60327bb6",
   "metadata": {},
   "outputs": [
    {
     "name": "stdout",
     "output_type": "stream",
     "text": [
      "Model: \"sequential\"\n",
      "_________________________________________________________________\n",
      "Layer (type)                 Output Shape              Param #   \n",
      "=================================================================\n",
      "embedding (Embedding)        (None, 76, 2)             6000      \n",
      "_________________________________________________________________\n",
      "lstm (LSTM)                  (None, 2)                 40        \n",
      "_________________________________________________________________\n",
      "dense (Dense)                (None, 2)                 6         \n",
      "=================================================================\n",
      "Total params: 6,046\n",
      "Trainable params: 6,046\n",
      "Non-trainable params: 0\n",
      "_________________________________________________________________\n"
     ]
    }
   ],
   "source": [
    "embed_dim = 2\n",
    "lstm_out = 2\n",
    "\n",
    "model = Sequential()\n",
    "model.add(Embedding(max_features, embed_dim,input_length = X.shape[1]))\n",
    "model.add(LSTM(lstm_out))\n",
    "model.add(Dense(2,activation='softmax'))\n",
    "model.compile(loss = 'categorical_crossentropy', optimizer='adam',metrics = ['accuracy'])\n",
    "model.summary()"
   ]
  },
  {
   "cell_type": "code",
   "execution_count": 8,
   "id": "fbc308d0",
   "metadata": {},
   "outputs": [
    {
     "name": "stdout",
     "output_type": "stream",
     "text": [
      "Epoch 1/12\n",
      "20/20 [==============================] - 1s 42ms/step - loss: 0.6928 - accuracy: 0.5403 - val_loss: 0.6921 - val_accuracy: 0.6128\n",
      "Epoch 2/12\n",
      "20/20 [==============================] - 0s 23ms/step - loss: 0.6906 - accuracy: 0.5548 - val_loss: 0.6903 - val_accuracy: 0.5226\n",
      "Epoch 3/12\n",
      "20/20 [==============================] - 0s 23ms/step - loss: 0.6872 - accuracy: 0.5258 - val_loss: 0.6872 - val_accuracy: 0.5226\n",
      "Epoch 4/12\n",
      "20/20 [==============================] - 0s 23ms/step - loss: 0.6816 - accuracy: 0.5258 - val_loss: 0.6821 - val_accuracy: 0.5226\n",
      "Epoch 5/12\n",
      "20/20 [==============================] - 0s 23ms/step - loss: 0.6719 - accuracy: 0.5274 - val_loss: 0.6725 - val_accuracy: 0.5226\n",
      "Epoch 6/12\n",
      "20/20 [==============================] - 0s 22ms/step - loss: 0.6555 - accuracy: 0.5339 - val_loss: 0.6572 - val_accuracy: 0.5226\n",
      "Epoch 7/12\n",
      "20/20 [==============================] - 0s 22ms/step - loss: 0.6308 - accuracy: 0.6161 - val_loss: 0.6357 - val_accuracy: 0.5940\n",
      "Epoch 8/12\n",
      "20/20 [==============================] - 0s 22ms/step - loss: 0.5985 - accuracy: 0.6984 - val_loss: 0.6091 - val_accuracy: 0.7030\n",
      "Epoch 9/12\n",
      "20/20 [==============================] - 0s 23ms/step - loss: 0.5613 - accuracy: 0.7823 - val_loss: 0.5825 - val_accuracy: 0.7293\n",
      "Epoch 10/12\n",
      "20/20 [==============================] - 0s 22ms/step - loss: 0.5229 - accuracy: 0.8177 - val_loss: 0.5542 - val_accuracy: 0.7519\n",
      "Epoch 11/12\n",
      "20/20 [==============================] - 0s 24ms/step - loss: 0.4821 - accuracy: 0.8565 - val_loss: 0.5270 - val_accuracy: 0.7669\n",
      "Epoch 12/12\n",
      "20/20 [==============================] - 1s 26ms/step - loss: 0.4374 - accuracy: 0.9000 - val_loss: 0.5025 - val_accuracy: 0.7820\n"
     ]
    }
   ],
   "source": [
    "history = model.fit(X_train, Y_train, epochs = 12,validation_data = (X_test,Y_test), verbose = 1)"
   ]
  },
  {
   "cell_type": "code",
   "execution_count": 10,
   "id": "d609c538",
   "metadata": {},
   "outputs": [
    {
     "data": {
      "image/png": "[encoded data removed]",
      "text/plain": [
       "<Figure size 432x288 with 1 Axes>"
      ]
     },
     "metadata": {
      "needs_background": "light"
     },
     "output_type": "display_data"
    },
    {
     "data": {
      "image/png": "[encoded data removed]",
      "text/plain": [
       "<Figure size 432x288 with 1 Axes>"
      ]
     },
     "metadata": {
      "needs_background": "light"
     },
     "output_type": "display_data"
    }
   ],
   "source": [
    "#Plotting the graphs\n",
    "def plot_graphs(history,string):\n",
    "    labels = [string,\"val_\"+string]\n",
    "    plt.plot(history.history[string])\n",
    "    plt.plot(history.history['val_'+string])\n",
    "    plt.xlabel(\"Epochs\")\n",
    "    plt.ylabel(string)\n",
    "    plt.legend(labels)\n",
    "    plt.show()\n",
    "\n",
    "plot_graphs(history,\"accuracy\")\n",
    "plot_graphs(history,\"loss\")"
   ]
  }
 ],
 "metadata": {
  "kernelspec": {
   "display_name": "Python 3",
   "language": "python",
   "name": "python3"
  },
  "language_info": {
   "codemirror_mode": {
    "name": "ipython",
    "version": 3
   },
   "file_extension": ".py",
   "mimetype": "text/x-python",
   "name": "python",
   "nbconvert_exporter": "python",
   "pygments_lexer": "ipython3",
   "version": "3.8.8"
  }
 },
 "nbformat": 4,
 "nbformat_minor": 5
}

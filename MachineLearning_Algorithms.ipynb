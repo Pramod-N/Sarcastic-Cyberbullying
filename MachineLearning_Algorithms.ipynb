{
 "cells": [
  {
   "cell_type": "code",
   "execution_count": 14,
   "id": "fc6515fe",
   "metadata": {},
   "outputs": [],
   "source": [
    "#Importing dependencies that are required for building the model and running the code \n",
    "import pandas as pd\n",
    "from sklearn import tree\n",
    "from sklearn.naive_bayes import MultinomialNB\n",
    "from sklearn.linear_model import SGDClassifier,LogisticRegression \n",
    "from sklearn.ensemble import BaggingClassifier,RandomForestClassifier\n",
    "from sklearn.feature_extraction.text import TfidfVectorizer\n",
    "import numpy as np\n",
    "import matplotlib.pyplot as plt\n",
    "import io\n",
    "import random;\n",
    "import tensorflow as tf"
   ]
  },
  {
   "cell_type": "code",
   "execution_count": 2,
   "id": "b573b3ef",
   "metadata": {},
   "outputs": [],
   "source": [
    "#Read the data from the csv files loaded \n",
    "sarcasm_bullying_data  = pd.read_csv(r'./dataset/sarcastic_data.csv')\n",
    "non_sarcasm_bullying_data  = pd.read_csv(r'./dataset/non-sarcastic_data.csv')"
   ]
  },
  {
   "cell_type": "code",
   "execution_count": 3,
   "id": "4236961b",
   "metadata": {},
   "outputs": [],
   "source": [
    "#Convert the loaded dataset into list\n",
    "complete_sarcastic_list = sarcasm_bullying_data.values.tolist()\n",
    "complete_non_sarcastic_list = non_sarcasm_bullying_data.values.tolist()\n",
    "\n",
    "#Merge non sarcastic list in sarcastic list\n",
    "complete_sarcastic_list.extend(complete_non_sarcastic_list)\n",
    "\n",
    "#shuffling the dataset\n",
    "for i in range(0,120):\n",
    "    random.shuffle(complete_sarcastic_list)\n",
    "\n",
    "#Creatng a complete set of data\n",
    "complete_set = complete_sarcastic_list\n",
    "\n",
    "#Separating sentences and labels into two different list\n",
    "complete_comments = []\n",
    "labels = []\n",
    "\n",
    "for each in complete_set:\n",
    "    complete_comments.append(each[0])\n",
    "    labels.append(each[1])\n"
   ]
  },
  {
   "cell_type": "code",
   "execution_count": 4,
   "id": "6afaa9e3",
   "metadata": {},
   "outputs": [],
   "source": [
    "#defining the size for training and testing\n",
    "training_size = 793  #denotes 60% of the data, so 40% of the data is used for testing\n",
    "\n",
    "#Separating the complete set of sentences of data into training set\n",
    "training_sentence = complete_comments[0:training_size]\n",
    "\n",
    "#Separating the complete set of sentences of data into testing set\n",
    "testing_sentence = complete_comments[training_size:]\n",
    "\n",
    "#Separating the complete set of labels of data into testing set\n",
    "training_labels = labels[0:training_size]\n",
    "\n",
    "#Separating the complete set of labels of data into testing set\n",
    "testing_labels = labels[training_size:]"
   ]
  },
  {
   "cell_type": "code",
   "execution_count": 5,
   "id": "a1342478",
   "metadata": {},
   "outputs": [],
   "source": [
    "#Use tfidf to extract all the unique words in the sentence (each unique words is treated as a feature)\n",
    "vectorizer = TfidfVectorizer(stop_words='english')\n",
    "\n",
    "#Extract features for training set\n",
    "vectors_train = vectorizer.fit_transform(training_sentence)\n",
    "feature_names = vectorizer.get_feature_names()\n",
    "dense = vectors_train.todense()\n",
    "denselist = dense.tolist()\n",
    "\n",
    "#Create a 2D matrix where rows denote training sentences, and the columns denote unique features \n",
    "training_samples = pd.DataFrame(denselist, columns=feature_names)\n",
    "\n",
    "#Extract features for testing set\n",
    "vectors_test =  vectorizer.transform(testing_sentence)\n",
    "feature_names = vectorizer.get_feature_names()\n",
    "dense = vectors_test.todense()\n",
    "denselist = dense.tolist()\n",
    "\n",
    "# #Create a 2D matrix where rows denote testing sentences, and the columns denote unique features \n",
    "testing_samples = pd.DataFrame(denselist, columns=feature_names)"
   ]
  },
  {
   "cell_type": "markdown",
   "id": "76c68b59",
   "metadata": {},
   "source": [
    "### Naive Bayes"
   ]
  },
  {
   "cell_type": "code",
   "execution_count": 6,
   "id": "b102217f",
   "metadata": {},
   "outputs": [
    {
     "name": "stdout",
     "output_type": "stream",
     "text": [
      "The accuracy of the predicted data is 88.17204301075269\n"
     ]
    }
   ],
   "source": [
    "#Use Naive Bayes to train the model\n",
    "nb_model = MultinomialNB().fit(training_samples, training_labels)\n",
    "\n",
    "#Predicting the accuracy for Naive Bayes\n",
    "predicted_nb = nb_model.predict(testing_samples)\n",
    "print(\"The accuracy of the predicted data is\",np.mean(predicted_nb == testing_labels)*100)"
   ]
  },
  {
   "cell_type": "markdown",
   "id": "da9cd2e4",
   "metadata": {},
   "source": [
    "### Linear SVM"
   ]
  },
  {
   "cell_type": "code",
   "execution_count": 7,
   "id": "8c683a80",
   "metadata": {},
   "outputs": [
    {
     "name": "stdout",
     "output_type": "stream",
     "text": [
      "The accuracy of the predicted data is 91.39784946236558\n"
     ]
    },
    {
     "name": "stderr",
     "output_type": "stream",
     "text": [
      "C:\\Users\\Pramod\\anaconda3\\lib\\site-packages\\sklearn\\linear_model\\_stochastic_gradient.py:574: ConvergenceWarning: Maximum number of iteration reached before convergence. Consider increasing max_iter to improve the fit.\n",
      "  warnings.warn(\"Maximum number of iteration reached before \"\n"
     ]
    }
   ],
   "source": [
    "#Use Linear Support Vector Machine(SVM) to train the model\n",
    "svm_model = SGDClassifier(loss='hinge', penalty='l2',alpha=1e-3, max_iter=5, random_state=42)\n",
    "temp = svm_model.fit(training_samples,training_labels)\n",
    "\n",
    "#Predicting the accuracy for Linear SVM\n",
    "predicted_svm = svm_model.predict(testing_samples)\n",
    "print(\"The accuracy of the predicted data is\",np.mean(predicted_svm == testing_labels)*100)"
   ]
  },
  {
   "cell_type": "markdown",
   "id": "6a3d45b6",
   "metadata": {},
   "source": [
    "### Logistic Regression"
   ]
  },
  {
   "cell_type": "code",
   "execution_count": 8,
   "id": "80ab8546",
   "metadata": {},
   "outputs": [
    {
     "name": "stdout",
     "output_type": "stream",
     "text": [
      "The accuracy of the predicted data is 88.17204301075269\n"
     ]
    }
   ],
   "source": [
    "#Use Logistic Regression(LR) to train the model\n",
    "logistic_reg_model = LogisticRegression(C=1e5)\n",
    "logistic_reg = logistic_reg_model.fit(training_samples,training_labels)\n",
    "\n",
    "#Predicting the accuracy for Logistic Regression\n",
    "predicted_log = logistic_reg_model.predict(testing_samples)\n",
    "print(\"The accuracy of the predicted data is\",np.mean(predicted_log == testing_labels)*100)"
   ]
  },
  {
   "cell_type": "markdown",
   "id": "88c6cdf2",
   "metadata": {},
   "source": [
    "### Decision Trees"
   ]
  },
  {
   "cell_type": "code",
   "execution_count": 9,
   "id": "f7b6b3f6",
   "metadata": {},
   "outputs": [
    {
     "name": "stdout",
     "output_type": "stream",
     "text": [
      "The accuracy of the predicted data is 86.02150537634408\n"
     ]
    }
   ],
   "source": [
    "#Define the model\n",
    "dec_trees_model = tree.DecisionTreeClassifier()\n",
    "\n",
    "#Use Decision Trees to train the model\n",
    "dec_trees_model.fit(training_samples, training_labels)\n",
    "\n",
    "#Predicting the accuracy for Decision trees\n",
    "print(\"The accuracy of the predicted data is\",dec_trees_model.score(testing_samples,testing_labels)*100)"
   ]
  },
  {
   "cell_type": "markdown",
   "id": "e3c5f257",
   "metadata": {},
   "source": [
    "### Random Forest"
   ]
  },
  {
   "cell_type": "code",
   "execution_count": 10,
   "id": "bae872f9",
   "metadata": {},
   "outputs": [
    {
     "name": "stdout",
     "output_type": "stream",
     "text": [
      "The accuracy of the predicted data is 89.24731182795699\n"
     ]
    }
   ],
   "source": [
    "#Define the model\n",
    "random_fr_model=RandomForestClassifier(n_estimators=100)\n",
    "\n",
    "#Use Random Forest to train the model\n",
    "random_fr_model.fit(training_samples, training_labels)\n",
    "\n",
    "#Predicting the accuracy for Random Forest\n",
    "print(\"The accuracy of the predicted data is\",random_fr_model.score(testing_samples,testing_labels)*100)"
   ]
  },
  {
   "cell_type": "markdown",
   "id": "55ac45bb",
   "metadata": {},
   "source": [
    "### Ensemble Method"
   ]
  },
  {
   "cell_type": "code",
   "execution_count": 11,
   "id": "acc9af20",
   "metadata": {},
   "outputs": [
    {
     "name": "stdout",
     "output_type": "stream",
     "text": [
      "The accuracy of the predicted data is 87.09677419354838\n"
     ]
    }
   ],
   "source": [
    "#Use Ensamble to train the model\n",
    "ensemble_model = BaggingClassifier(tree.DecisionTreeClassifier(random_state=1))\n",
    "ensemble_model.fit(training_samples, training_labels)\n",
    "\n",
    "#Preciting the accuracy for Ensemble method\n",
    "print(\"The accuracy of the predicted data is\",ensemble_model.score(testing_samples,testing_labels)*100)"
   ]
  },
  {
   "cell_type": "markdown",
   "id": "25dc72e4",
   "metadata": {},
   "source": [
    "### Custom Input"
   ]
  },
  {
   "cell_type": "code",
   "execution_count": 18,
   "id": "d2c9efda",
   "metadata": {},
   "outputs": [
    {
     "name": "stdout",
     "output_type": "stream",
     "text": [
      "Enter a Sentence:you are a bitch\n",
      "The prediction of Logistric Regression is: 0\n",
      "The prediction of Naive Bayes is: 0\n",
      "The prediction of Ensemble method is: 0\n",
      "The prediction of Random Forest is: 0\n",
      "The prediction of Decision Tree is: 0\n"
     ]
    }
   ],
   "source": [
    "#Custom Input \n",
    "new_input=[input(\"Enter a Sentence:\")]\n",
    "vectors_test =  vectorizer.transform(new_input)\n",
    "feature_names = vectorizer.get_feature_names()\n",
    "dense = vectors_test.todense()\n",
    "denselist = dense.tolist()\n",
    "\n",
    "#Create a 2D matrix where rows denote testing sentences, and the columns denote unique features \n",
    "new_input_sample = pd.DataFrame(denselist, columns=feature_names)\n",
    "\n",
    "#For Baseline Models\n",
    "new_output = logistic_reg_model.predict(new_input_sample)\n",
    "print(\"The prediction of Logistric Regression is:\",new_output[0])\n",
    "\n",
    "new_output = nb_model.predict(new_input_sample)\n",
    "print(\"The prediction of Naive Bayes is:\",new_output[0])\n",
    "\n",
    "new_output = ensemble_model.predict(new_input_sample)\n",
    "print(\"The prediction of Ensemble method is:\",new_output[0])\n",
    "\n",
    "new_output = random_fr_model.predict(new_input_sample)\n",
    "print(\"The prediction of Random Forest is:\",new_output[0])\n",
    "\n",
    "new_output = dec_trees_model.predict(new_input_sample)\n",
    "print(\"The prediction of Decision Tree is:\",new_output[0])\n"
   ]
  }
 ],
 "metadata": {
  "kernelspec": {
   "display_name": "Python 3",
   "language": "python",
   "name": "python3"
  },
  "language_info": {
   "codemirror_mode": {
    "name": "ipython",
    "version": 3
   },
   "file_extension": ".py",
   "mimetype": "text/x-python",
   "name": "python",
   "nbconvert_exporter": "python",
   "pygments_lexer": "ipython3",
   "version": "3.8.8"
  }
 },
 "nbformat": 4,
 "nbformat_minor": 5
}
